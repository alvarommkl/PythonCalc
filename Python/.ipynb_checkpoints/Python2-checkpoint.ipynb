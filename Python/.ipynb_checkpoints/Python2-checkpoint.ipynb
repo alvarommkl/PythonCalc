{
 "cells": [
  {
   "cell_type": "code",
   "execution_count": 7,
   "id": "f84fab23-5d01-42af-bd81-0d4ca120cf4e",
   "metadata": {},
   "outputs": [
    {
     "data": {
      "text/plain": [
       "[0, 2, 4, 6, 8]"
      ]
     },
     "execution_count": 7,
     "metadata": {},
     "output_type": "execute_result"
    }
   ],
   "source": [
    "#Las listas tienen 2 formas de crearse\n",
    "lista=list()\n",
    "lista=[1,2,3,4]\n",
    "\n",
    "#Contiene elementos, quiere decir que en una lista puede haber otra lista si quieres, o string o int etc....\n",
    "#Es una forma de sacar elementos, con corchetes y la posicion, podemos poner numeros negativos, es decir, empiezan desde el final \n",
    "lista[1]\n",
    "lista[-3]\n",
    "\n",
    "#Podemos utilizar un rango, \n",
    "l=list(range(10))\n",
    "l[0::2]\n",
    "#l[el primer valor es el inicio(se puede dejar en blanco): el segundo valor es el final(se puede dejar vacio para que sea el final, se pueden poner numeros negativos):el incremento]\n"
   ]
  },
  {
   "cell_type": "code",
   "execution_count": 10,
   "id": "4c5b3dbf-bc1d-47c8-b897-eb4c8a9b48f2",
   "metadata": {},
   "outputs": [
    {
     "name": "stdout",
     "output_type": "stream",
     "text": [
      "[1, 2, 3, [1, 2, 3], 5]\n"
     ]
    }
   ],
   "source": [
    "lista = [1,2,3]\n",
    "lista.append([1,2,3])\n",
    "lista.append(5)\n",
    "\n",
    "#append es para añadir un valor o una lista\n",
    "print(lista)"
   ]
  },
  {
   "cell_type": "code",
   "execution_count": 12,
   "id": "9db24851-49e1-4e8c-8a62-055fa02adbf9",
   "metadata": {},
   "outputs": [
    {
     "name": "stdout",
     "output_type": "stream",
     "text": [
      "[1, 2, 3]\n",
      "['a', 'b', 'c']\n",
      "[1, 2, 3, 'a', 'b', 'c']\n"
     ]
    }
   ],
   "source": [
    "l1 = [1,2,3]\n",
    "l2 = ['a','b','c']\n",
    "l3 = l1 + l2\n",
    "print(l1)\n",
    "print(l2)\n",
    "print(l3)\n",
    "#Crea una lista nueva\n"
   ]
  },
  {
   "cell_type": "code",
   "execution_count": 24,
   "id": "6503f24d-2e65-4290-bc5e-6dfedcd51f4b",
   "metadata": {},
   "outputs": [
    {
     "data": {
      "text/plain": [
       "30"
      ]
     },
     "execution_count": 24,
     "metadata": {},
     "output_type": "execute_result"
    }
   ],
   "source": [
    "#lista.insert(lugar donde quieres que se inserte (se pueden poner negativos), el valor a insertar)\n",
    "lista.insert(0,50)\n",
    "lista\n",
    "#Borrar elemento de la lista, funciona con rangos es decir 1:3\n",
    "del lista[0]\n",
    "del lista[0]\n",
    "lista\n",
    "\n",
    "\n",
    "#La funcion all en una lista de booleanos devuelve true si todos los elementos de la lista son true, si no devuelve false\n",
    "all(lista) #Son numeros\n",
    "#La funcion any en una lista de booleanos devuelve false si algun elemento de la lista es true, si no devuelve false\n",
    "any(lista)\n",
    "#Las funciones max y min en una lista de numeros devuelve el maximo o el minimo de la lista\n",
    "max([1,2,3,5,2,3,4,10]) \n",
    "min([1,2,3,5,2,3,4,10])\n",
    "#La funcion sum en una lista de numeros devuelve la suma de todos los elementos\n",
    "sum([1,2,3,5,2,3,4,10])"
   ]
  },
  {
   "cell_type": "code",
   "execution_count": 31,
   "id": "29fa5e0c-5955-49d4-a309-c4e6282678b4",
   "metadata": {},
   "outputs": [],
   "source": [
    "#Los conjuntos tiene exactamente lo mismo que las listas, con la unica y gran diferencia de que, sus elementos no se pueden repetir con lo cual la indexacion no tiene sentido y no siguen orden\n",
    "#La creacion de conjuntos se hace con set o con las llaves {}\n",
    "conjunto = set([1,3,4,2,4])\n",
    "#Si se repiten valores, se omiten"
   ]
  },
  {
   "cell_type": "code",
   "execution_count": 32,
   "id": "54a66131-c5c1-44b9-97cb-90d2ed2626db",
   "metadata": {},
   "outputs": [
    {
     "data": {
      "text/plain": [
       "{1, 2, 3, 4, 50}"
      ]
     },
     "execution_count": 32,
     "metadata": {},
     "output_type": "execute_result"
    }
   ],
   "source": [
    "conjunto.add(50)\n",
    "conjunto\n",
    "#En los conjuntos no se pueden meter lista de datos\n"
   ]
  },
  {
   "cell_type": "code",
   "execution_count": 33,
   "id": "56a1640b-5333-4da5-a889-a4e5ca7f735b",
   "metadata": {},
   "outputs": [
    {
     "data": {
      "text/plain": [
       "{1, 3, 4, 50}"
      ]
     },
     "execution_count": 33,
     "metadata": {},
     "output_type": "execute_result"
    }
   ],
   "source": [
    "#para eliminar items del conjunto se utiliza remove conunto.remove(elemento a eliminar)\n",
    "conjunto.remove(2)\n",
    "conjunto"
   ]
  },
  {
   "cell_type": "code",
   "execution_count": 36,
   "id": "b1ac22e7-02f2-4aec-bc9d-66442f3a4a55",
   "metadata": {},
   "outputs": [
    {
     "name": "stdout",
     "output_type": "stream",
     "text": [
      "True\n",
      "False\n"
     ]
    }
   ],
   "source": [
    "#Con el operador infijo \"in\" se puede comprobar la pertenencia de los elementos de un set\n",
    "#CComprueba si el elemento a la izquierda existe en el elemento de la derecha, es decir (elemento a buscar in el conjunto)\n",
    "\n",
    "print(4 in conjunto) #True\n",
    "print (49 in conjunto) #False"
   ]
  },
  {
   "cell_type": "code",
   "execution_count": 37,
   "id": "93db0612-7fbd-4250-888d-1ba7bfe99341",
   "metadata": {},
   "outputs": [
    {
     "data": {
      "text/plain": [
       "[1, 3, 4, 50]"
      ]
     },
     "execution_count": 37,
     "metadata": {},
     "output_type": "execute_result"
    }
   ],
   "source": [
    "#Se puede \"pasar\" de un conjunto a un list con el casteo aunque el orden puede no respetarse\n",
    "list(conjunto)"
   ]
  },
  {
   "cell_type": "code",
   "execution_count": 38,
   "id": "07497414-65a4-406a-8cb8-94e27f9e557d",
   "metadata": {},
   "outputs": [
    {
     "name": "stdout",
     "output_type": "stream",
     "text": [
      "0\n",
      "1\n",
      "2\n",
      "3\n",
      "4\n",
      "5\n",
      "6\n",
      "7\n",
      "8\n",
      "9\n"
     ]
    }
   ],
   "source": [
    "#Se pueden recorrer listas con un bucle for, y tambien se puede recorrer un conjunto, pasandolo a lista.\n",
    "for i in list(range(10)):\n",
    "    print(i)"
   ]
  },
  {
   "cell_type": "code",
   "execution_count": 41,
   "id": "f60a03e8-2b26-4397-87c3-2b152940ee00",
   "metadata": {},
   "outputs": [
    {
     "name": "stdout",
     "output_type": "stream",
     "text": [
      "1\n",
      "3\n",
      "4\n",
      "50\n",
      "=======\n",
      "1\n",
      "3\n",
      "4\n",
      "50\n"
     ]
    }
   ],
   "source": [
    "#For con un conjunto\n",
    "for i in list(conjunto):\n",
    "    print(i)\n",
    "#O incluso\n",
    "print(\"=======\")\n",
    "for i in conjunto:\n",
    "    print (i)"
   ]
  },
  {
   "cell_type": "code",
   "execution_count": 44,
   "id": "e35101c9-0238-4f2b-8b79-fe727d3d95e5",
   "metadata": {},
   "outputs": [
    {
     "name": "stdout",
     "output_type": "stream",
     "text": [
      "Union de conjuntos {1, 2, 3, 4, 5, 6, 7, 8}\n",
      "Interseccion de conjuntos {4, 5}\n",
      "Diferencia de conjuntos {1, 2, 3}\n"
     ]
    }
   ],
   "source": [
    "#La union es diferente, sirve para unir 2 conjuntos y se hace de esta forma: nombre_conjunto.union(nombre_conjunto2)\n",
    "s1 = set ([1,2,3,4,5])\n",
    "s2 = set ([4,5,6,7,8])\n",
    "print(f\"Union de conjuntos {s1.union(s2)}\")\n",
    "#Interseccion sirve para mostrar los conjuntos en comun y se hace de esta forma: nombre_conjunto.intersection(nombre_conjunto2)\n",
    "print(f\"Interseccion de conjuntos {s1.intersection(s2)}\")\n",
    "#Diferencia: sirve para mostrar los items diferentes y se hace de esta forma: nombre_conjunto.difference(nombre_conjunto2)\n",
    "print(f\"Diferencia de conjuntos {s1.difference(s2)}\")"
   ]
  },
  {
   "cell_type": "code",
   "execution_count": 46,
   "id": "7a17880f-f4b6-4fa3-bd01-b721d5dfe110",
   "metadata": {},
   "outputs": [
    {
     "name": "stdin",
     "output_type": "stream",
     "text": [
      "Introduce un caracter:  a\n",
      "Introduce un caracter:  b\n",
      "Introduce un caracter:  c\n",
      "Introduce un caracter:  d\n",
      "Introduce un caracter:  e\n",
      "Introduce un caracter:  f\n",
      "Introduce un caracter:  g\n",
      "Introduce un caracter:  h\n",
      "Introduce un caracter:  i\n",
      "Introduce un caracter:  j\n"
     ]
    },
    {
     "name": "stdout",
     "output_type": "stream",
     "text": [
      "{'g', 'i', 'd', 'e', 'f', 'a', 'c', 'b', 'j', 'h'}\n"
     ]
    }
   ],
   "source": [
    "#ejercio bucle introducir 10 caracteres en un conjunto introducidos por teclado\n",
    "s3 = set([])\n",
    "for i in range(10):\n",
    "    s3.add(input(\"Introduce un caracter: \"))\n",
    "print(s3)"
   ]
  },
  {
   "cell_type": "code",
   "execution_count": 49,
   "id": "898fce6b-a864-43a7-b4ed-df061113c0cd",
   "metadata": {},
   "outputs": [
    {
     "name": "stdout",
     "output_type": "stream",
     "text": [
      "(1, 2, 3)\n",
      "(3, 4, 5)\n"
     ]
    },
    {
     "data": {
      "text/plain": [
       "int"
      ]
     },
     "execution_count": 49,
     "metadata": {},
     "output_type": "execute_result"
    }
   ],
   "source": [
    "#Tupla es exactamente igual una lista, se hace con la funcion tuple pasandole una lista o simplemente con los parentesis\n",
    "t=tuple([1,2,3])\n",
    "print(t)\n",
    "t=(3,4,5)\n",
    "print(t)\n",
    "#Ojo porque al poner solo parentesis te lo coge como si fuese un int por la preferencia de las operaciones aritmeticas\n",
    "type((1))"
   ]
  },
  {
   "cell_type": "code",
   "execution_count": 53,
   "id": "4cfde052-cecf-4ea0-bce1-4c0e31d91b3a",
   "metadata": {},
   "outputs": [
    {
     "data": {
      "text/plain": [
       "{(1, 2, 3), (9, 8, 7), 1, 3, 4, 50}"
      ]
     },
     "execution_count": 53,
     "metadata": {},
     "output_type": "execute_result"
    }
   ],
   "source": [
    "#Al intentar meter una lista en el conjunto saltaba una excepcion (con la funcion list) el error que saltaba era que no es hasheable, pero las tuplas si pueden introducirse en un conjunto ya que si tienen hash\n",
    "conjunto.add((1,2,3))\n",
    "conjunto.add(tuple([9,8,7]))\n",
    "conjunto"
   ]
  },
  {
   "cell_type": "code",
   "execution_count": 57,
   "id": "4d4109ef-11b0-4900-b422-5e606aaba18c",
   "metadata": {},
   "outputs": [
    {
     "name": "stdout",
     "output_type": "stream",
     "text": [
      "Alvaro\n",
      "Muñoz\n",
      "Otero\n",
      "====\n",
      "Alvaro Muñoz Otero\n"
     ]
    }
   ],
   "source": [
    "lista = \"Alvaro Muñoz Otero\".split(\" \")\n",
    "nombre = lista[0]\n",
    "apellido1 = lista[1]\n",
    "apellido2 = lista[2]\n",
    "print(nombre)\n",
    "print(apellido1)\n",
    "print(apellido2)\n",
    "#tambien se puede hacer asi:\n",
    "print(\"====\")\n",
    "print(nombre, apellido1, apellido2)"
   ]
  },
  {
   "cell_type": "code",
   "execution_count": 59,
   "id": "1862ffe1-1bda-453d-814e-c56aee8003a8",
   "metadata": {},
   "outputs": [
    {
     "data": {
      "text/plain": [
       "{'Juan': 688337283, 'Pepe': 743902858}"
      ]
     },
     "execution_count": 59,
     "metadata": {},
     "output_type": "execute_result"
    }
   ],
   "source": [
    "#Diccionarios es como una agenda es decir relaccionan algo por ejemplo un nombre con un numero de telefono, una marca de coche con un modelo etc..., se crean con las llaves:\n",
    "{\n",
    "    \"Juan\":688337283,\n",
    "    \"Pepe\":743902858\n",
    "}"
   ]
  },
  {
   "cell_type": "code",
   "execution_count": 62,
   "id": "51e7e0bd-1f56-4daf-9a57-bf5e662fa24d",
   "metadata": {},
   "outputs": [
    {
     "name": "stdout",
     "output_type": "stream",
     "text": [
      "{'a': 1, 'b': 2}\n",
      "{'a': 1, 2: 3}\n"
     ]
    }
   ],
   "source": [
    "#Tambien se pueden crear con la funcion dict(string=referencia...)\n",
    "print(dict(a=1,b=2))\n",
    "#Con la funcion dict solo puedes meter un string = a algo, pero si lo haces con llaves, puedes meter un entero : a un entero\n",
    "print({'a':1, 2:3})"
   ]
  },
  {
   "cell_type": "code",
   "execution_count": 64,
   "id": "12e28053-b02e-48c5-a3b6-22a42d6c28f9",
   "metadata": {},
   "outputs": [
    {
     "name": "stdout",
     "output_type": "stream",
     "text": [
      "{1: 'entero', 2.55: 'flotante o decimal'}\n"
     ]
    }
   ],
   "source": [
    "print({1:'entero',2.55:'flotante o decimal'})"
   ]
  },
  {
   "cell_type": "code",
   "execution_count": 65,
   "id": "ebd76efd-84d2-42e6-b1e4-b5e4d20b0930",
   "metadata": {},
   "outputs": [
    {
     "name": "stdout",
     "output_type": "stream",
     "text": [
      "entero\n",
      "flotante o decimal\n",
      "string\n"
     ]
    }
   ],
   "source": [
    "#El acceso se realiza mediante corchetes, pero no buscamos por posicion si no por referencia, es decir buscamos el valor que hay dentro del diccionario no su posicion\n",
    "d = {1:'entero',2.55:'flotante o decimal' , \"hola\":\"string\"}\n",
    "print(d[1])\n",
    "print(d[2.55])\n",
    "print(d[\"hola\"])"
   ]
  },
  {
   "cell_type": "code",
   "execution_count": 67,
   "id": "37bc0c54-71d0-4ff2-91e1-3a35337bd918",
   "metadata": {},
   "outputs": [
    {
     "data": {
      "text/plain": [
       "{'hola': 'mundo'}"
      ]
     },
     "execution_count": 67,
     "metadata": {},
     "output_type": "execute_result"
    }
   ],
   "source": [
    "#Introducir valores en un diccionario\n",
    "d={}\n",
    "d[\"hola\"]=\"mundo\"\n",
    "\n"
   ]
  },
  {
   "cell_type": "code",
   "execution_count": 68,
   "id": "5b4b923b-062a-4c12-a735-e6817b83673f",
   "metadata": {},
   "outputs": [
    {
     "data": {
      "text/plain": [
       "{'hola': 'mundo', (1, 2, 3): [1, 2, 3]}"
      ]
     },
     "execution_count": 68,
     "metadata": {},
     "output_type": "execute_result"
    }
   ],
   "source": [
    "d[(1,2,3)] = [1,2,3]\n",
    "d"
   ]
  },
  {
   "cell_type": "code",
   "execution_count": 76,
   "id": "21cca7f8-df60-4faf-8219-64d075f7ebce",
   "metadata": {},
   "outputs": [
    {
     "name": "stdout",
     "output_type": "stream",
     "text": [
      "['Juan', 'Pepe']\n",
      "[688337283, 743902858]\n",
      "[('Juan', 688337283), ('Pepe', 743902858)]\n",
      "Juan\n",
      "Pepe\n",
      "=====\n",
      "688337283\n",
      "743902858\n",
      "=====\n",
      "Juan ------> 688337283\n",
      "Pepe ------> 743902858\n"
     ]
    }
   ],
   "source": [
    "#Las funciones de los diccionarios son keys values o items\n",
    "#Keys: imprime la lista de claves por ejemplo al nombre:\n",
    "d ={\n",
    "    \"Juan\":688337283,\n",
    "    \"Pepe\":743902858}\n",
    "print(list(d.keys()))\n",
    "\n",
    "#Values: devuelve el valor de la lista, por ejemplo, solo los numeros de telefono\n",
    "print(list(d.values()))\n",
    "\n",
    "#Items: Imprime la lista de tuplas (clave, valor)\n",
    "print(list(d.items()))\n",
    "\n",
    "#Ejemplo de interacciones\n",
    "\n",
    "for k in d.keys():\n",
    "    print(k)\n",
    "    \n",
    "print(\"=====\")\n",
    "\n",
    "for v in d.values():\n",
    "    print(v)\n",
    "print(\"=====\")\n",
    "\n",
    "for k, v in d.items():\n",
    "    print(k, '------>',v)"
   ]
  },
  {
   "cell_type": "code",
   "execution_count": 79,
   "id": "f9a82ba2-099d-41c4-87fa-9a47ffacba1f",
   "metadata": {},
   "outputs": [
    {
     "data": {
      "text/plain": [
       "{'en': 2,\n",
       " 'un': 2,\n",
       " 'dia': 1,\n",
       " 'como': 1,\n",
       " 'hoy,': 1,\n",
       " 'estamos': 1,\n",
       " 'viendo': 1,\n",
       " 'el': 1,\n",
       " 'uso': 1,\n",
       " 'de': 1,\n",
       " 'diccionarios': 1,\n",
       " 'python': 1,\n",
       " 'con': 1,\n",
       " 'valor': 1,\n",
       " 'por': 1,\n",
       " 'defecto': 1}"
      ]
     },
     "execution_count": 79,
     "metadata": {},
     "output_type": "execute_result"
    }
   ],
   "source": [
    "#Valor por defecto en un diccionario\n",
    "\n",
    "cuentapalabras = dict()\n",
    "texto =\"En un dia como hoy, estamos viendo el uso de diccionarios en python con un valor por defecto\".split(\" \")\n",
    "for p in texto:\n",
    "    palabra=p.lower()\n",
    "    if palabra in cuentapalabras:\n",
    "        cuentapalabras[palabra]+=1\n",
    "    else:\n",
    "        cuentapalabras[palabra] = 1\n",
    "\n",
    "cuentapalabras\n",
    "\n"
   ]
  },
  {
   "cell_type": "code",
   "execution_count": 82,
   "id": "50612a43-d2a0-401a-8d38-4ef567f85a0a",
   "metadata": {},
   "outputs": [
    {
     "data": {
      "text/plain": [
       "defaultdict(int,\n",
       "            {'en': 2,\n",
       "             'un': 2,\n",
       "             'dia': 1,\n",
       "             'como': 1,\n",
       "             'hoy,': 1,\n",
       "             'estamos': 1,\n",
       "             'viendo': 1,\n",
       "             'el': 1,\n",
       "             'uso': 1,\n",
       "             'de': 1,\n",
       "             'diccionarios': 1,\n",
       "             'python': 1,\n",
       "             'con': 1,\n",
       "             'valor': 1,\n",
       "             'por': 1,\n",
       "             'defecto': 1})"
      ]
     },
     "execution_count": 82,
     "metadata": {},
     "output_type": "execute_result"
    }
   ],
   "source": [
    "#Pero con una libreria se puede poner un diccionario con un valor por defecto, quitando el if\n",
    "\n",
    "from collections import defaultdict\n",
    "cuentapalabras=defaultdict(int)\n",
    "texto =\"En un dia como hoy, estamos viendo el uso de diccionarios en python con un valor por defecto\".split(\" \")\n",
    "for p in texto:\n",
    "    palabra = p.lower()\n",
    "    cuentapalabras[palabra]+=1\n",
    "cuentapalabras"
   ]
  },
  {
   "cell_type": "code",
   "execution_count": 83,
   "id": "eac3b7a4-d9e4-4152-9459-aa4dd38c466b",
   "metadata": {},
   "outputs": [
    {
     "data": {
      "text/plain": [
       "defaultdict(list,\n",
       "            {'verbo': ['estamos', 'escuchando'],\n",
       "             'preposicion': ['en'],\n",
       "             'nombre': ['clase']})"
      ]
     },
     "execution_count": 83,
     "metadata": {},
     "output_type": "execute_result"
    }
   ],
   "source": [
    "#El defaultdict tambien es util en listas\n",
    "\n",
    "tipo_palabras = [('estamos','verbo'),('en','preposicion'),('clase','nombre'),('escuchando','verbo')]\n",
    "\n",
    "grupos_palabras = defaultdict(list)\n",
    "for valor, clave in tipo_palabras:\n",
    "    grupos_palabras[clave].append(valor)\n",
    "grupos_palabras"
   ]
  },
  {
   "cell_type": "code",
   "execution_count": null,
   "id": "4ed832ed-7af1-4378-ae28-5058922a6158",
   "metadata": {},
   "outputs": [],
   "source": []
  }
 ],
 "metadata": {
  "kernelspec": {
   "display_name": "Python 3 (ipykernel)",
   "language": "python",
   "name": "python3"
  },
  "language_info": {
   "codemirror_mode": {
    "name": "ipython",
    "version": 3
   },
   "file_extension": ".py",
   "mimetype": "text/x-python",
   "name": "python",
   "nbconvert_exporter": "python",
   "pygments_lexer": "ipython3",
   "version": "3.8.10"
  }
 },
 "nbformat": 4,
 "nbformat_minor": 5
}
