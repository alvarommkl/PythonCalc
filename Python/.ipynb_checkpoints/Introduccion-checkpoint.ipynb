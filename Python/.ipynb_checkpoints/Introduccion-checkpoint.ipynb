{
 "cells": [
  {
   "cell_type": "code",
   "execution_count": 1,
   "id": "e0951ded-0858-4b42-9080-9888f7ad1240",
   "metadata": {},
   "outputs": [
    {
     "name": "stdout",
     "output_type": "stream",
     "text": [
      "29-03-2022\n"
     ]
    }
   ],
   "source": [
    "mivariable = 1 #Tiene que empezar por una letra o simbolo\n",
    "_mivariable = 0.123\n",
    "\n",
    "#Tras la primera letra o simbolo se pueden poner todo tipo de caracteres excepto espacios\n",
    "\n",
    "mivariable123 = 123\n",
    "mi_variable_1_2_3 = 124\n",
    "\n",
    "fecha = \"29-03-2022\"\n",
    "print(fecha)"
   ]
  },
  {
   "cell_type": "code",
   "execution_count": 6,
   "id": "61f783d9-6c2e-41d7-8613-a4eb8e7c64ac",
   "metadata": {},
   "outputs": [],
   "source": [
    "mivariable"
   ]
  },
  {
   "cell_type": "code",
   "execution_count": 7,
   "id": "60c890ca-e5cf-40d2-8cc1-c8c823dd7a4b",
   "metadata": {},
   "outputs": [
    {
     "name": "stdout",
     "output_type": "stream",
     "text": [
      "5\n",
      "<class 'int'>\n"
     ]
    }
   ],
   "source": [
    "#Declara una variable numerica\n",
    "\n",
    "un_numero = 5\n",
    "print(un_numero)        #Mostramos su valor\n",
    "print(type(un_numero))  #Mostramos su tipo inferido"
   ]
  },
  {
   "cell_type": "code",
   "execution_count": 10,
   "id": "7a3e51c7-7170-439b-bdda-7aeed073f7a9",
   "metadata": {},
   "outputs": [
    {
     "name": "stdout",
     "output_type": "stream",
     "text": [
      "<class 'int'>\n",
      "<class 'float'>\n",
      "<class 'str'>\n",
      "<class 'bool'>\n",
      "<class 'NoneType'>\n"
     ]
    }
   ],
   "source": [
    "#Existen los tipos de datos basicos habituales: int, float, str y bool\n",
    "\n",
    "print(type(1))             #Tipo int (entero)\n",
    "print(type(1.0))           #Tipo float (decimal)\n",
    "print(type(\"hola\"))        #Tipo str (String)\n",
    "print(type(True))          #Tipo bool (Booleano)\n",
    "\n",
    "\n",
    "#Existe un tipo especiañ, llamado NoneType que sirve para indicar que es una variable vacia. Es muy util\n",
    "# para representar ausencia de informacio, un resultado especial para una funcion, etc...\n",
    "print(type(None)) #None es una palabra reservada, al igual que True y False, se usa igual: 'variable = None'"
   ]
  },
  {
   "cell_type": "code",
   "execution_count": 12,
   "id": "bdfff1b4-e0a0-49a6-b7ed-51643269e3d4",
   "metadata": {},
   "outputs": [
    {
     "name": "stdout",
     "output_type": "stream",
     "text": [
      "5\n",
      "-1\n",
      "-5\n",
      "===\n",
      "6\n",
      "2.5\n",
      "1.0\n",
      "2\n",
      "2\n",
      "====\n",
      "1\n",
      "8\n"
     ]
    }
   ],
   "source": [
    "#Operaciones Aritmeticas:\n",
    "\n",
    "print(2 + 3)  #Suma = 5\n",
    "print(2 - 3)  #Resta = -1\n",
    "print(-5)  #Numero negativo = 5\n",
    "\n",
    "\n",
    "print(\"===\")\n",
    "\n",
    "\n",
    "print(2 * 3)  #Suma = 5\n",
    "print(5 / 2)  #Division flotante = 2.5\n",
    "print(2 / 2)  #Aunque la division sea entera, siempre te saldra como flotante o con decimales\n",
    "\n",
    "print(5 // 2)  #Division entera = 2 (se trunca; equivalente a int(5/2))\n",
    "print(4 // 2)   #El resultado es un entero: 2\n",
    "\n",
    "\n",
    "print(\"====\")\n",
    "\n",
    "\n",
    "print(5 % 2)  #Modulo es decir el resto de una division = 1\n",
    "print(2 ** 3)  #Potencias, 2 elevado a 3; 2^3=8\n"
   ]
  },
  {
   "cell_type": "code",
   "execution_count": 14,
   "id": "e8d31414-f693-4620-b3dd-17609a57f299",
   "metadata": {},
   "outputs": [],
   "source": [
    "import math\n"
   ]
  },
  {
   "cell_type": "code",
   "execution_count": 15,
   "id": "5f98e8a6-710c-4f4e-840c-8aea006f80ee",
   "metadata": {},
   "outputs": [
    {
     "data": {
      "text/plain": [
       "<module 'math' (built-in)>"
      ]
     },
     "execution_count": 15,
     "metadata": {},
     "output_type": "execute_result"
    }
   ],
   "source": [
    "math"
   ]
  },
  {
   "cell_type": "code",
   "execution_count": 16,
   "id": "6c1ee29d-933c-476b-bb04-d21b06e8e795",
   "metadata": {},
   "outputs": [
    {
     "data": {
      "text/plain": [
       "\u001b[1;31mType:\u001b[0m        module\n",
       "\u001b[1;31mString form:\u001b[0m <module 'math' (built-in)>\n",
       "\u001b[1;31mDocstring:\u001b[0m  \n",
       "This module provides access to the mathematical functions\n",
       "defined by the C standard.\n"
      ]
     },
     "metadata": {},
     "output_type": "display_data"
    }
   ],
   "source": [
    "?math"
   ]
  },
  {
   "cell_type": "code",
   "execution_count": 17,
   "id": "f3b6de06-fa3e-4554-ae33-e2ba4ccb1372",
   "metadata": {},
   "outputs": [
    {
     "name": "stdout",
     "output_type": "stream",
     "text": [
      "3.0\n",
      "4\n",
      "3\n",
      "6\n",
      "20.085536923187668\n",
      "0.6931471805599453\n",
      "2.0\n"
     ]
    }
   ],
   "source": [
    "#Importamos la libreria o modulo math\n",
    "\n",
    "import math\n",
    "print( math.sqrt(9) )        #Raiz cuadrada de 9: 3\n",
    "print( math.ceil(3.1) )      #Redondeo a la alta 4\n",
    "print( math.floor(3.1) )     #Redondedo a la baja 3\n",
    "print( math.factorial(3) )   #Factorial de 3:6\n",
    "print( math.exp(3) )         #Exponencial de 3: 20.085536\n",
    "print( math.log(2) )         #Logaritmo en base e de 2: 3\n",
    "print( math.log(100 , 10) )  #Logaritmo en base 10 de 100: 3"
   ]
  },
  {
   "cell_type": "code",
   "execution_count": null,
   "id": "8423c701-7b26-4f43-82ea-e2280db1324b",
   "metadata": {},
   "outputs": [],
   "source": [
    "#Operaciones con ángulos\n",
    "\n",
    "print(math.pi)    #Numero pi\n",
    "print(math.e)    #Numero e\n",
    "print(math.sin(math.pi))    #Seno de pi(en radianes)\n",
    "print(math.cos(math.pi))    #coseno de pi (en radianes)\n",
    "print(math.tan(math.pi))    #Tangente de pi (en radianes)\n",
    "\n",
    "\n",
    "#Tambien esta en la inversa asin acos atan\n",
    "\n",
    "\n",
    "#La jerarquia de operaciones es la natural: Primero potencias, luego multiplicaciones y divisiones y por ultimo sumas y restas. Puedes cambiar el orden natural con parentesis"
   ]
  },
  {
   "cell_type": "code",
   "execution_count": 19,
   "id": "0612af79-6245-4a24-b2c4-278ca897325c",
   "metadata": {},
   "outputs": [
    {
     "name": "stdout",
     "output_type": "stream",
     "text": [
      "esto es un backslash: \\\n",
      "Esto es un salto de \n",
      " linea\n",
      "Eso es un tabulador \tmas texto\n"
     ]
    }
   ],
   "source": [
    "print(\"esto es un backslash: \\\\\") #El primer backsalsh sirve para escapar al segundo.\n",
    "print(\"Esto es un salto de \\n linea\")\n",
    "print(\"Eso es un tabulador \\tmas texto\")"
   ]
  },
  {
   "cell_type": "code",
   "execution_count": 22,
   "id": "e806678e-3582-43b3-b326-bd89836bed91",
   "metadata": {},
   "outputs": [
    {
     "name": "stdout",
     "output_type": "stream",
     "text": [
      "Hola Mundo\n",
      "hola Mundo!\n",
      "Este es el modulo 1\n"
     ]
    }
   ],
   "source": [
    "s1 =\"Hola \"\n",
    "s2 = \"Mundo\"\n",
    "\n",
    "s_concatenada = s1 + s2  #Pega las 2 strings\n",
    "print(s_concatenada)\n",
    "\n",
    "#Se puede concatenar un numero indefinida de veces\n",
    "print (\"hola \"+\"Mundo\"+\"!\")\n",
    "\n",
    "\n",
    "#No se puede concatenar una string y un numero\n",
    "\n",
    "#Pero si se puede castear un numero a una string\n",
    "print(\"Este es el modulo \" +str(1) )"
   ]
  },
  {
   "cell_type": "code",
   "execution_count": 23,
   "id": "bd0afff2-f8b7-4a5c-9e14-5f954ecebf81",
   "metadata": {},
   "outputs": [
    {
     "name": "stdout",
     "output_type": "stream",
     "text": [
      "=-==-==-==-==-==-==-==-==-==-==-==-==-==-==-==-==-==-==-==-==-==-==-==-==-==-==-==-==-==-==-==-==-==-==-==-==-==-==-==-==-==-==-==-==-==-==-==-==-==-==-==-==-==-==-==-==-==-==-==-==-==-==-==-==-==-==-==-==-==-==-==-==-==-==-==-==-==-==-==-==-==-==-==-==-==-==-==-==-==-==-==-==-==-==-==-==-==-==-==-==-==-==-==-==-==-==-==-==-==-==-==-==-==-==-==-==-==-==-==-==-==-==-==-==-==-==-==-==-==-==-==-==-==-==-==-==-==-==-==-==-==-==-==-==-==-==-==-==-==-==-==-==-==-==-==-==-==-==-==-==-==-==-==-==-==-==-==-==-==-==-==-==-==-==-==-==-==-==-==-==-==-==-==-==-==-==-==-==-==-==-==-==-==-==-==-==-==-==-==-==-==-==-==-==-==-==-==-==-==-==-==-==-==-==-==-==-==-==-==-==-==-==-==-==-==-==-==-==-==-==-==-==-==-==-==-==-==-==-==-==-==-==-==-==-==-==-==-==-==-==-==-==-==-==-==-==-==-==-==-==-==-==-==-==-==-==-==-==-==-==-==-==-==-==-==-==-==-==-==-==-==-==-==-==-==-==-==-==-==-==-==-==-==-==-==-==-==-==-==-=\n"
     ]
    }
   ],
   "source": [
    "#Replicacion\n",
    "print(\"=-=\" * 300)  #print(lo que queremos replicar, cuantas veces se repite)"
   ]
  },
  {
   "cell_type": "code",
   "execution_count": 24,
   "id": "12453a21-c9e6-4284-8219-fbd370884189",
   "metadata": {},
   "outputs": [
    {
     "data": {
      "text/plain": [
       "['Rojo', 'Verde', 'Azul', 'Amarillo']"
      ]
     },
     "execution_count": 24,
     "metadata": {},
     "output_type": "execute_result"
    }
   ],
   "source": [
    "#Division de string\n",
    "\n",
    "\"Rojo,Verde,Azul,Amarillo\".split(',')"
   ]
  },
  {
   "cell_type": "code",
   "execution_count": 25,
   "id": "cfdcf241-34bf-4902-8887-85480ebeb8cc",
   "metadata": {},
   "outputs": [
    {
     "data": {
      "text/plain": [
       "'Rojo;Verde;Azul;Amarillo'"
      ]
     },
     "execution_count": 25,
     "metadata": {},
     "output_type": "execute_result"
    }
   ],
   "source": [
    "lista_string = \"Rojo,Verde,Azul,Amarillo\".split(',')\n",
    "';'.join(lista_string)  #Cambia el separador"
   ]
  },
  {
   "cell_type": "code",
   "execution_count": 26,
   "id": "cb6674ae-df55-4889-89bf-f276162a4950",
   "metadata": {},
   "outputs": [
    {
     "name": "stdout",
     "output_type": "stream",
     "text": [
      "Rojo.\n",
      "Verde.\n",
      "Azul.\n",
      "Amarillo.\n"
     ]
    }
   ],
   "source": [
    "#Limpieza de strings\n",
    "\n",
    "rojo, verde, azul, amarillo = \"                             Rojo,Verde,Azul,Amarillo      \".split(',')\n",
    "\n",
    "print(rojo.strip()+\".\")\n",
    "print(verde.strip()+\".\")\n",
    "print(azul.strip()+\".\")\n",
    "print(amarillo.strip()+\".\")"
   ]
  },
  {
   "cell_type": "code",
   "execution_count": 27,
   "id": "7ff92324-c54c-417b-9e82-3631d82d8f94",
   "metadata": {},
   "outputs": [
    {
     "name": "stdout",
     "output_type": "stream",
     "text": [
      "Este es el modulo 1\n"
     ]
    }
   ],
   "source": [
    "s = \"Este es el modulo {}\"\n",
    "\n",
    "print(str.format(s, 1)) #Format busca en el string las llaves y las sustituye en orden por los argumentos\n",
    "\n",
    "#pyformat.info"
   ]
  },
  {
   "cell_type": "code",
   "execution_count": 29,
   "id": "113c3d84-d21f-4713-863d-b2325aff5438",
   "metadata": {},
   "outputs": [
    {
     "data": {
      "text/plain": [
       "'7 - 5 = 2'"
      ]
     },
     "execution_count": 29,
     "metadata": {},
     "output_type": "execute_result"
    }
   ],
   "source": [
    "\"{} - {} = {}\".format(7 , 5, 7-5)\n"
   ]
  },
  {
   "cell_type": "code",
   "execution_count": 36,
   "id": "934672c3-21f1-4be4-a8d9-de0f420bc9f9",
   "metadata": {},
   "outputs": [
    {
     "data": {
      "text/plain": [
       "'Hola 55.00%'"
      ]
     },
     "execution_count": 36,
     "metadata": {},
     "output_type": "execute_result"
    }
   ],
   "source": [
    "f\"Hola {0.55:.2%}\"  #Si quieres poner algo mas, pones 2 puntos y lo que quieras, por ejemplo si en tu porcentaje quieres 2 decimales pones 0.55.2% y te saldria 55.00%"
   ]
  },
  {
   "cell_type": "code",
   "execution_count": 39,
   "id": "75fc65e2-39f7-490f-8963-a135aac7237e",
   "metadata": {},
   "outputs": [
    {
     "data": {
      "text/plain": [
       "'Hola Javi'"
      ]
     },
     "execution_count": 39,
     "metadata": {},
     "output_type": "execute_result"
    }
   ],
   "source": [
    "f\"Hola {int(0.55):d}\" #No sirve como casteo\n",
    "nombre = \"Javi\"\n",
    "f\"Hola {nombre}\" #Puedes poner variables dentro del formateo\n",
    "\n"
   ]
  },
  {
   "cell_type": "code",
   "execution_count": 45,
   "id": "c1b8f731-871f-45c8-8e38-5481eb04863f",
   "metadata": {},
   "outputs": [
    {
     "name": "stdout",
     "output_type": "stream",
     "text": [
      "b es False\n",
      "b1 or b2 es True\n",
      "b1 or b2 es False\n"
     ]
    }
   ],
   "source": [
    "#Operaciones con valores booleanos\n",
    "\n",
    "\n",
    "#not, or, and\n",
    "\n",
    "#not\n",
    "\n",
    "b=True\n",
    "print(f\"b es {not b}\")\n",
    "\n",
    "\n",
    "#or\n",
    "\n",
    "b1 = True\n",
    "b2 = False\n",
    "print (f\"b1 or b2 es {b1 or b2}\")\n",
    "\n",
    "\n",
    "#and\n",
    "\n",
    "b1 = True\n",
    "b2 = False\n",
    "print (f\"b1 or b2 es {b1 and b2}\")"
   ]
  },
  {
   "cell_type": "code",
   "execution_count": null,
   "id": "72855047-32e4-4594-9108-f47c5771b8ff",
   "metadata": {},
   "outputs": [],
   "source": [
    "#Formatear año mes dia"
   ]
  },
  {
   "cell_type": "code",
   "execution_count": 63,
   "id": "e1a6bd7a-bba6-449d-8d06-e6ec6cee6da3",
   "metadata": {
    "tags": []
   },
   "outputs": [],
   "source": [
    "año = 2000\n",
    "mes = \"Octubre\"\n",
    "dia = 1"
   ]
  },
  {
   "cell_type": "code",
   "execution_count": 66,
   "id": "fb224541-c31b-43aa-bc0c-e10632350853",
   "metadata": {
    "tags": []
   },
   "outputs": [
    {
     "name": "stdout",
     "output_type": "stream",
     "text": [
      "1 Octubre del 2000\n"
     ]
    }
   ],
   "source": [
    "fecha = str(dia) + \" \" + mes + \" del \" + str(año)\n",
    "print(fecha)"
   ]
  },
  {
   "cell_type": "code",
   "execution_count": null,
   "id": "1dd85448-758a-4f6b-a688-36f983316a60",
   "metadata": {},
   "outputs": [],
   "source": []
  }
 ],
 "metadata": {
  "kernelspec": {
   "display_name": "Python 3 (ipykernel)",
   "language": "python",
   "name": "python3"
  },
  "language_info": {
   "codemirror_mode": {
    "name": "ipython",
    "version": 3
   },
   "file_extension": ".py",
   "mimetype": "text/x-python",
   "name": "python",
   "nbconvert_exporter": "python",
   "pygments_lexer": "ipython3",
   "version": "3.8.10"
  }
 },
 "nbformat": 4,
 "nbformat_minor": 5
}
