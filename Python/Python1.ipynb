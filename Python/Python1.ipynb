{
 "cells": [
  {
   "cell_type": "code",
   "execution_count": 1,
   "id": "99df7e5a-2de4-47ab-876a-716c723eb428",
   "metadata": {},
   "outputs": [],
   "source": [
    "#Estructuras de control\n",
    "#Funciones built-in\n",
    "#Funciones\n"
   ]
  },
  {
   "cell_type": "code",
   "execution_count": 4,
   "id": "d13541d0-7c2c-4d88-a1dd-7ed5662b5b7f",
   "metadata": {},
   "outputs": [
    {
     "name": "stdout",
     "output_type": "stream",
     "text": [
      "True\n"
     ]
    }
   ],
   "source": [
    "if True:\n",
    "    print(\"True\")\n",
    "elif False:\n",
    "        print(\"False\")\n",
    "elif x:\n",
    "        print(x)"
   ]
  },
  {
   "cell_type": "code",
   "execution_count": 5,
   "id": "a8d94474-767e-4e9c-9396-2a106a402e62",
   "metadata": {},
   "outputs": [
    {
     "name": "stdout",
     "output_type": "stream",
     "text": [
      "Soy el 1\n",
      "Soy el 2\n",
      "Soy el 3\n",
      "Soy el 4\n"
     ]
    }
   ],
   "source": [
    "for i in [1,2,3,4]:\n",
    "    print (f\"Soy el {i}\")"
   ]
  },
  {
   "cell_type": "code",
   "execution_count": 6,
   "id": "6e23e0e0-e6fe-48da-8694-bcfecaa484ae",
   "metadata": {},
   "outputs": [
    {
     "name": "stdout",
     "output_type": "stream",
     "text": [
      "[10, 9, 8, 7]\n"
     ]
    }
   ],
   "source": [
    "#Los rangos de numero se hacen con la funcion range que tiene 3 parametros : range(valor inicial inclusive, valor fina exclusive(no se incluye), y el incremento(de 1 en 1 de 2 en 2 etc...)\n",
    "print(list(range(10,6,-1)))"
   ]
  },
  {
   "cell_type": "code",
   "execution_count": 8,
   "id": "125c098a-a5d4-4275-bab3-1eafd01a937f",
   "metadata": {},
   "outputs": [
    {
     "name": "stdout",
     "output_type": "stream",
     "text": [
      "[10, 11, 12]\n"
     ]
    }
   ],
   "source": [
    "#Se pueden suprimir argumentos, por ejemplo, si solo ponemos 2 argumentos, seran el inicio y el final, se supondra que el incremento es de 1 en 1\n",
    "print(list(range(10,13)))\n",
    "#Si no tiene sentido, es decir empieza en 3 y acaba en 1, la secuencia es vacia"
   ]
  },
  {
   "cell_type": "code",
   "execution_count": 9,
   "id": "35798a93-5e79-4c9b-a37b-c280d4967b33",
   "metadata": {},
   "outputs": [
    {
     "name": "stdout",
     "output_type": "stream",
     "text": [
      "[0, 1, 2, 3, 4, 5, 6, 7, 8, 9]\n"
     ]
    }
   ],
   "source": [
    "#Si solo se especifica un argumento, se supondra que el inicio es en 0 y el incremento sera de 1 en 1\n",
    "print(list(range(10)))"
   ]
  },
  {
   "cell_type": "code",
   "execution_count": 10,
   "id": "713a4ecb-b7d3-4cb1-b15e-2883533ff900",
   "metadata": {},
   "outputs": [],
   "source": [
    "#Round redondea al entero siguiendo el metodo del banquero, es decir si es par redondea hacia arriba y si es impar redondea a la baja\n"
   ]
  },
  {
   "cell_type": "code",
   "execution_count": 12,
   "id": "750817dc-60a1-4705-909e-4f365ef3261c",
   "metadata": {},
   "outputs": [
    {
     "data": {
      "text/plain": [
       "True"
      ]
     },
     "execution_count": 12,
     "metadata": {},
     "output_type": "execute_result"
    }
   ],
   "source": [
    "#isinstance(valor, tipo de variable) es una condicion que devuelve true o false en funcion de los parametros\n",
    "isinstance(5,int)"
   ]
  },
  {
   "cell_type": "code",
   "execution_count": 13,
   "id": "66b67451-2eae-4ec4-be5e-5bf13be41f7b",
   "metadata": {},
   "outputs": [],
   "source": [
    "def sumar(x, y):\n",
    "    return x+y\n",
    "    "
   ]
  },
  {
   "cell_type": "code",
   "execution_count": 16,
   "id": "500fb48d-4978-4fd6-89bb-42fd4feb95f0",
   "metadata": {},
   "outputs": [
    {
     "data": {
      "text/plain": [
       "19"
      ]
     },
     "execution_count": 16,
     "metadata": {},
     "output_type": "execute_result"
    }
   ],
   "source": [
    "#Funcionan igual que las funciones built-in\n",
    "sumar(15,4)\n"
   ]
  },
  {
   "cell_type": "code",
   "execution_count": 25,
   "id": "672743a6-e9f1-4d7d-af72-1d3cda0ef513",
   "metadata": {},
   "outputs": [
    {
     "data": {
      "text/plain": [
       "\u001b[1;31mSignature:\u001b[0m \u001b[0mmi_funcion\u001b[0m\u001b[1;33m(\u001b[0m\u001b[1;33m)\u001b[0m\u001b[1;33m\u001b[0m\u001b[1;33m\u001b[0m\u001b[0m\n",
       "\u001b[1;31mDocstring:\u001b[0m\n",
       "esto es un docstring\n",
       "el docstring es informacion\n",
       "Es la primera linea de la funcion\n",
       "\u001b[1;31mFile:\u001b[0m      c:\\users\\alvar.enzolap3\\appdata\\local\\temp\\ipykernel_16588\\321786310.py\n",
       "\u001b[1;31mType:\u001b[0m      function\n"
      ]
     },
     "metadata": {},
     "output_type": "display_data"
    }
   ],
   "source": [
    "def mi_funcion():\n",
    "    \"\"\"\n",
    "    esto es un docstring\n",
    "    el docstring es informacion\n",
    "    Es la primera linea de la funcion\n",
    "    \"\"\"\n",
    "    print(\"hola\")\n",
    "?mi_funcion"
   ]
  },
  {
   "cell_type": "code",
   "execution_count": 21,
   "id": "92e109af-328e-4557-aaf0-e160e3195bc9",
   "metadata": {},
   "outputs": [
    {
     "data": {
      "text/plain": [
       "False"
      ]
     },
     "execution_count": 21,
     "metadata": {},
     "output_type": "execute_result"
    }
   ],
   "source": [
    "#el == compara valor es decir [1,2,3] == [1,2,3] es True y is comprueba a nivel de objeto es decir [1,2,3] is [1,2,3] es False\n",
    "[1,2,3] == [1,2,3]\n",
    "[1,2,3] is [1,2,3]"
   ]
  },
  {
   "cell_type": "code",
   "execution_count": 22,
   "id": "77566948-abdc-4368-b3b2-e9deee03891a",
   "metadata": {},
   "outputs": [
    {
     "data": {
      "text/plain": [
       "2281939387584"
      ]
     },
     "execution_count": 22,
     "metadata": {},
     "output_type": "execute_result"
    }
   ],
   "source": [
    "#Comprobacion de porque\n",
    "id([1,2,3])"
   ]
  },
  {
   "cell_type": "code",
   "execution_count": 23,
   "id": "bca3906e-0f3e-40ae-85e6-bf170b1d285d",
   "metadata": {},
   "outputs": [
    {
     "data": {
      "text/plain": [
       "2281939334400"
      ]
     },
     "execution_count": 23,
     "metadata": {},
     "output_type": "execute_result"
    }
   ],
   "source": [
    "id([1,2,3])\n",
    "#Son id distintos"
   ]
  },
  {
   "cell_type": "code",
   "execution_count": 24,
   "id": "67ecea60-3a34-4dec-90ff-94fbe8ae00cd",
   "metadata": {},
   "outputs": [
    {
     "data": {
      "text/plain": [
       "'Hola\\nbuenas\\ntardes'"
      ]
     },
     "execution_count": 24,
     "metadata": {},
     "output_type": "execute_result"
    }
   ],
   "source": [
    "#String en distintas lineas pones 3 comillas dobles y acaba cuando encuentra otras 3 comillas dobles detecta saltos de linea\n",
    "\"\"\"Hola\n",
    "buenas\n",
    "tardes\"\"\""
   ]
  },
  {
   "cell_type": "code",
   "execution_count": 27,
   "id": "dc1a1675-ba8d-46cf-aed9-5b905d3387cd",
   "metadata": {},
   "outputs": [
    {
     "name": "stdout",
     "output_type": "stream",
     "text": [
      "3\n"
     ]
    }
   ],
   "source": [
    "#Se pueden pasar pasar los argumentos de 2 formas, por posicion o por nombre es decir:\n",
    "#Por posicion\n",
    "print(sumar(1,2))"
   ]
  },
  {
   "cell_type": "code",
   "execution_count": 28,
   "id": "2c2aba07-7342-433e-b6dd-2c0035ef4032",
   "metadata": {},
   "outputs": [
    {
     "name": "stdout",
     "output_type": "stream",
     "text": [
      "3\n"
     ]
    }
   ],
   "source": [
    "#Por nombre\n",
    "print(sumar(y=2,x=1))"
   ]
  },
  {
   "cell_type": "code",
   "execution_count": 30,
   "id": "98b384ee-6714-44f9-8077-0c52b7866a0c",
   "metadata": {},
   "outputs": [
    {
     "data": {
      "text/plain": [
       "3"
      ]
     },
     "execution_count": 30,
     "metadata": {},
     "output_type": "execute_result"
    }
   ],
   "source": [
    "#Si ponemos por nombre, tiene que ser por nombre, si pones por orden, tienes que ser por orden por ejemplo \n",
    "#Esto si funciona\n",
    "sumar(2,y=1)\n"
   ]
  },
  {
   "cell_type": "code",
   "execution_count": null,
   "id": "c21c5755-1863-4cf9-a37d-67634a33bae2",
   "metadata": {},
   "outputs": [],
   "source": []
  }
 ],
 "metadata": {
  "kernelspec": {
   "display_name": "Python 3 (ipykernel)",
   "language": "python",
   "name": "python3"
  },
  "language_info": {
   "codemirror_mode": {
    "name": "ipython",
    "version": 3
   },
   "file_extension": ".py",
   "mimetype": "text/x-python",
   "name": "python",
   "nbconvert_exporter": "python",
   "pygments_lexer": "ipython3",
   "version": "3.8.10"
  }
 },
 "nbformat": 4,
 "nbformat_minor": 5
}
