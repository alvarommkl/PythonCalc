{
 "cells": [
  {
   "cell_type": "code",
   "execution_count": 32,
   "id": "36d5db28-e80c-4c75-a303-2dbecfd36470",
   "metadata": {},
   "outputs": [
    {
     "name": "stdin",
     "output_type": "stream",
     "text": [
      "Elige la longitud de la secuencia 4\n"
     ]
    },
    {
     "name": "stdout",
     "output_type": "stream",
     "text": [
      "2143\n"
     ]
    }
   ],
   "source": [
    "#Nos debe preguntar por teclado la longitud de la secuencia de numeros que generara\n",
    "#Se generara una secuencia aleatoria que contendra los numeros de 1 a n\n",
    "#Usar un bucle en el que pregunte al usuario la cadena por teclado, si acierta el bucle acaba e imprime enhorabuena, y en caso de no acertar, se volvera a solicitar una nueva cadena, se contabilizaran los intentos\n",
    "#Se puede indicar cuando se falla y cuantos numeros ha errado\n",
    "\n",
    "import random\n",
    "N=int(input(\"Elige la longitud de la secuencia\"))\n",
    "\n",
    "l=list(range(1,N+1))\n",
    "random.shuffle(l)\n",
    "secuencia=''.join([str(x) for x in l])\n",
    "print(secuencia)"
   ]
  },
  {
   "cell_type": "code",
   "execution_count": 33,
   "id": "a1f342cb-99c0-425d-8bd9-8c2ae8278256",
   "metadata": {
    "tags": []
   },
   "outputs": [
    {
     "name": "stdout",
     "output_type": "stream",
     "text": [
      "2143\n"
     ]
    },
    {
     "name": "stdin",
     "output_type": "stream",
     "text": [
      "Cual es la secuencia?:  2443\n"
     ]
    },
    {
     "name": "stdout",
     "output_type": "stream",
     "text": [
      "2\n",
      "2\n",
      "Ha acertado en:  3  En la posicion:  [0, 2, 3]  numero/s, y ha fallado en:  1  En la posicion:  [1]\n"
     ]
    },
    {
     "name": "stdin",
     "output_type": "stream",
     "text": [
      "Cual es la secuencia?:  1234\n"
     ]
    },
    {
     "name": "stdout",
     "output_type": "stream",
     "text": [
      "1\n",
      "2\n",
      "Ha acertado en:  0  En la posicion:  []  numero/s, y ha fallado en:  4  En la posicion:  [0, 1, 2, 3]\n"
     ]
    },
    {
     "name": "stdin",
     "output_type": "stream",
     "text": [
      "Cual es la secuencia?:  2143\n"
     ]
    },
    {
     "name": "stdout",
     "output_type": "stream",
     "text": [
      "Enhorabuena acertastes tu numero de fallos ha sido:  2\n"
     ]
    }
   ],
   "source": [
    "flag = True\n",
    "intentos = 0\n",
    "print(secuencia)\n",
    "while flag:\n",
    "    pos_aci = list()\n",
    "    pos_err = list()\n",
    "\n",
    "    inp=list((input('Cual es la secuencia?: ')))\n",
    "    r=''.join([str(x) for x in inp])\n",
    "    if int(r) == int(secuencia):\n",
    "        flag = False\n",
    "        \n",
    "    else:\n",
    "        contador_aciertos=0\n",
    "        contador_fallos=0\n",
    "        i=0\n",
    "        print(r[i])\n",
    "        print(secuencia[i])\n",
    "        for r2 in secuencia:\n",
    "            \n",
    "            if int(r[i]) == int(secuencia[i]):\n",
    "                contador_aciertos+=1\n",
    "                pos_aci.append(i)\n",
    "            else:\n",
    "                pos_err.append(i)\n",
    "                contador_fallos+=1\n",
    "            i+=1\n",
    "            \n",
    "        print(\"Ha acertado en: \",contador_aciertos,' En la posicion: ',pos_aci,\" numero/s, y ha fallado en: \",contador_fallos, ' En la posicion: ',pos_err)\n",
    "        intentos+=1\n",
    "        \n",
    "        \n",
    "print('Enhorabuena acertastes tu numero de fallos ha sido: ',intentos)\n"
   ]
  },
  {
   "cell_type": "code",
   "execution_count": 15,
   "id": "775657e3-b5fe-4496-ac1f-ee955f34dfea",
   "metadata": {},
   "outputs": [
    {
     "data": {
      "text/plain": [
       "1"
      ]
     },
     "execution_count": 15,
     "metadata": {},
     "output_type": "execute_result"
    }
   ],
   "source": [
    "#Numero de fibonacci\n",
    "\n",
    "def fibo(n):\n",
    "    \n",
    "    if n <= 1:\n",
    "        return 1\n",
    "    else:\n",
    "        return fibo(n-2) + fibo(n-1)\n",
    "fibo(1)  \n",
    "    #1+1=2, 1+2=3, 2+3=5 3+5=8 5+8=13  8+13=21\n",
    "    #a+b=n,  a+b=n , a+b=n  "
   ]
  },
  {
   "cell_type": "code",
   "execution_count": null,
   "id": "beddeddb-e8bc-469d-a6ec-3650bf3ea149",
   "metadata": {},
   "outputs": [],
   "source": [
    "#Una matriz se puede representar como una lista de listas.** Por ejemplo [[1,2],]"
   ]
  }
 ],
 "metadata": {
  "kernelspec": {
   "display_name": "Python 3 (ipykernel)",
   "language": "python",
   "name": "python3"
  },
  "language_info": {
   "codemirror_mode": {
    "name": "ipython",
    "version": 3
   },
   "file_extension": ".py",
   "mimetype": "text/x-python",
   "name": "python",
   "nbconvert_exporter": "python",
   "pygments_lexer": "ipython3",
   "version": "3.8.10"
  }
 },
 "nbformat": 4,
 "nbformat_minor": 5
}
